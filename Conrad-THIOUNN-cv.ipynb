{
 "cells": [
  {
   "cell_type": "markdown",
   "id": "8d4bbd94-3259-4ed1-b3fc-ea8166694543",
   "metadata": {},
   "source": [
    "# Conrad THIOUNN\n",
    "## *Administrateur stagiaire Insee*  (*11 years of previous experience as an Attaché statisticien*)"
   ]
  },
  {
   "cell_type": "markdown",
   "id": "352a3e0b-94be-4808-b4c3-0bdb5ad85fa0",
   "metadata": {},
   "source": [
    "----"
   ]
  },
  {
   "cell_type": "code",
   "execution_count": null,
   "id": "49316e71-aaf8-47bc-b9a7-002c573a7b32",
   "metadata": {},
   "outputs": [],
   "source": [
    "import pandas as pd\n",
    "from IPython.display import HTML"
   ]
  },
  {
   "cell_type": "code",
   "execution_count": null,
   "id": "4c02104e-a9fe-43fb-b6b4-9ad4dc9fa068",
   "metadata": {},
   "outputs": [],
   "source": [
    "english_resume=True\n",
    "pd.set_option('display.max_colwidth', None)\n",
    "URL_API=\"https://cthiounn.github.io/\""
   ]
  },
  {
   "cell_type": "markdown",
   "id": "a1dcbb36-ae33-4b47-8c5e-8b33cc7f5d32",
   "metadata": {
    "tags": []
   },
   "source": [
    "## 1 - Contact information\n",
    "----"
   ]
  },
  {
   "cell_type": "code",
   "execution_count": null,
   "id": "1637e91f-7cc8-45ba-aa4e-70c419ceed31",
   "metadata": {},
   "outputs": [],
   "source": [
    "if english_resume:\n",
    "    df_contacts=pd.read_json(URL_API+\"contact_info.json\")\n",
    "    display(HTML(df_contacts.to_html(render_links=True, escape=False)))"
   ]
  },
  {
   "cell_type": "markdown",
   "id": "fdaf27e6-c82a-4bad-8985-bc6743c93266",
   "metadata": {},
   "source": [
    "## 2 - Professional experience\n",
    "----"
   ]
  },
  {
   "cell_type": "code",
   "execution_count": null,
   "id": "5abcdf7d-4c36-4c87-bdf7-50c7fbd5d5b4",
   "metadata": {},
   "outputs": [],
   "source": [
    "df_xp=pd.read_json(URL_API+\"professional_experience.json\")\n",
    "df_xp"
   ]
  },
  {
   "cell_type": "markdown",
   "id": "f43c36d5-2457-4b62-8496-5fa9bab7a18d",
   "metadata": {},
   "source": [
    "## 3 - Education, Diplomas and Achievements\n",
    "----\n",
    "I'm currently following ENSAE's courses in second year as a public servant trainee (\"Administrateur stagiaire Insee\") :\n",
    "\n",
    "* Statistics\n",
    "* Econometrics\n",
    "* Micro and Macroeconomics\n",
    "* Surveys\n",
    "* Sociology\n",
    "* English\n",
    "* Japanese"
   ]
  },
  {
   "cell_type": "code",
   "execution_count": null,
   "id": "ef16744c-bd48-4438-8801-59e0aa4fafe0",
   "metadata": {},
   "outputs": [],
   "source": [
    "df_education=pd.read_json(URL_API+\"education_diplomas_and_achievements.json\")\n",
    "df_education"
   ]
  },
  {
   "cell_type": "markdown",
   "id": "c1f46a80-b94a-47b5-a7dd-fc9e7d79ab92",
   "metadata": {},
   "source": [
    "## 4 - Statistical work (Work in Progress)\n",
    "----"
   ]
  },
  {
   "cell_type": "code",
   "execution_count": null,
   "id": "3b154b18-fc86-43b6-b317-136246fc4c40",
   "metadata": {},
   "outputs": [],
   "source": [
    "df_work=pd.read_json(URL_API+\"statistical_work.json\")\n",
    "df_work"
   ]
  },
  {
   "cell_type": "markdown",
   "id": "b9e8040b-c6b5-4b72-a368-0a22452b0d7b",
   "metadata": {},
   "source": [
    "## 5 - Skills and hobbies\n",
    "----\n",
    "\n",
    "Languages :\n",
    "* French : Native\n",
    "* English : Proeficient (TOEIC 935 points in 2008)\n",
    "* Japanese : Beginner\n",
    "\n",
    "Project Management / Management :\n",
    "* Management 3.0\n",
    "* Agile Scrum mostly, looking forward to put more Lean into the workplace\n",
    "* Tutoring\n",
    "* Always looking for teamwork and feedback\n",
    "\n",
    "Hobbies :\n",
    "* Piano\n",
    "* Learning new things\n",
    "* Ultimate\n",
    "* Swimming\n",
    "* Badminton"
   ]
  }
 ],
 "metadata": {
  "kernelspec": {
   "display_name": "Python 3 (ipykernel)",
   "language": "python",
   "name": "python3"
  },
  "language_info": {
   "codemirror_mode": {
    "name": "ipython",
    "version": 3
   },
   "file_extension": ".py",
   "mimetype": "text/x-python",
   "name": "python",
   "nbconvert_exporter": "python",
   "pygments_lexer": "ipython3",
   "version": "3.9.7"
  }
 },
 "nbformat": 4,
 "nbformat_minor": 5
}
